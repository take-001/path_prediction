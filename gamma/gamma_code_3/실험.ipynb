{
 "cells": [
  {
   "cell_type": "code",
   "execution_count": 1,
   "metadata": {},
   "outputs": [],
   "source": [
    "#import\n",
    "import numpy as np\n",
    "import matplotlib.pyplot as plt\n",
    "from scipy.spatial.distance import euclidean\n",
    "from fastdtw import fastdtw\n",
    "import scipy.cluster.hierarchy as hr\n",
    "from geojson import LineString\n",
    "from geojson import MultiLineString\n",
    "from shapely.geometry import MultiLineString\n",
    "import random\n",
    "import math\n",
    "import os\n",
    "from sklearn.cluster import AgglomerativeClustering\n",
    "from sklearn.metrics.pairwise import pairwise_distances\n",
    "import pandas as pd\n",
    "import folium\n",
    "from shapely import wkt, geometry\n",
    "import json\n",
    "from pprint import pprint\n",
    "from openrouteservice import client, places\n",
    "\n",
    "import dtw_algorithm_edited as dtw\n",
    "\n",
    "api_key = '5b3ce3597851110001cf62487a4f3ad33ea14791b72150c9e6446e5e'\n",
    "clnt = client.Client(key=api_key)"
   ]
  },
  {
   "cell_type": "code",
   "execution_count": 2,
   "metadata": {},
   "outputs": [],
   "source": [
    "a=[[37.48596032872184, 127.12241649627687],[37.51125774406043, 127.11288928985597]]\n",
    "b=[[37.494711548204386, 127.12314605712892],[37.50792156351654, 127.11636543273927]]\n",
    "distance,path = fastdtw(a,b, dist=dtw.Distance_star)"
   ]
  },
  {
   "cell_type": "code",
   "execution_count": 3,
   "metadata": {},
   "outputs": [
    {
     "data": {
      "text/plain": [
       "0.666649564715405"
      ]
     },
     "execution_count": 3,
     "metadata": {},
     "output_type": "execute_result"
    }
   ],
   "source": [
    "distance/3"
   ]
  },
  {
   "cell_type": "code",
   "execution_count": 4,
   "metadata": {},
   "outputs": [],
   "source": [
    "a=[[37.48596032872184, 127.12241649627687],[37.51125774406043, 127.11288928985597]]\n",
    "b=[[37.494711548204386, 127.12314605712892],[37.50792156351654, 127.11636543273927]]\n",
    "distance_,path = fastdtw(a,b, dist=euclidean)"
   ]
  },
  {
   "cell_type": "code",
   "execution_count": 7,
   "metadata": {},
   "outputs": [
    {
     "data": {
      "text/plain": [
       "0.01359963404939529"
      ]
     },
     "execution_count": 7,
     "metadata": {},
     "output_type": "execute_result"
    }
   ],
   "source": [
    "distance_"
   ]
  },
  {
   "cell_type": "code",
   "execution_count": 10,
   "metadata": {},
   "outputs": [
    {
     "data": {
      "text/plain": [
       "0.03561280286931967"
      ]
     },
     "execution_count": 10,
     "metadata": {},
     "output_type": "execute_result"
    }
   ],
   "source": [
    "distance_11"
   ]
  },
  {
   "cell_type": "code",
   "execution_count": 9,
   "metadata": {},
   "outputs": [],
   "source": [
    "a=[[37.48596032872184, 127.12241649627687],[37.51125774406043, 127.11288928985597]]\n",
    "b=[[37.505436352534616, 127.14494705200197],[37.516091537017445, 127.11615085601808]]\n",
    "distance_11,path = fastdtw(a,b, dist=euclidean)"
   ]
  },
  {
   "cell_type": "code",
   "execution_count": null,
   "metadata": {},
   "outputs": [],
   "source": [
    "a=[[37.48596032872184, 127.12241649627687],[37.51125774406043, 127.11288928985597]]\n",
    "b=[[37.505436352534616, 127.14494705200197],[37.516091537017445, 127.11615085601808]]\n",
    "distance_1,path = fastdtw(a,b, dist=dtw.Distance_star)"
   ]
  },
  {
   "cell_type": "code",
   "execution_count": 6,
   "metadata": {},
   "outputs": [
    {
     "data": {
      "text/plain": [
       "0.6666218860834158"
      ]
     },
     "execution_count": 6,
     "metadata": {},
     "output_type": "execute_result"
    }
   ],
   "source": [
    "distance_1/3"
   ]
  }
 ],
 "metadata": {
  "kernelspec": {
   "display_name": "project23",
   "language": "python",
   "name": "project23"
  },
  "language_info": {
   "codemirror_mode": {
    "name": "ipython",
    "version": 3
   },
   "file_extension": ".py",
   "mimetype": "text/x-python",
   "name": "python",
   "nbconvert_exporter": "python",
   "pygments_lexer": "ipython3",
   "version": "3.9.13"
  },
  "orig_nbformat": 4
 },
 "nbformat": 4,
 "nbformat_minor": 2
}
