{
 "cells": [
  {
   "cell_type": "code",
   "execution_count": 19,
   "metadata": {},
   "outputs": [],
   "source": [
    "#import\n",
    "import numpy as np\n",
    "import matplotlib.pyplot as plt\n",
    "from scipy.spatial.distance import euclidean\n",
    "from fastdtw import fastdtw\n",
    "import scipy.cluster.hierarchy as hr\n",
    "from geojson import LineString\n",
    "import random\n",
    "\n",
    "from sklearn.cluster import AgglomerativeClustering\n",
    "from sklearn.metrics.pairwise import pairwise_distances\n",
    "import pandas as pd\n",
    "\n",
    "import folium\n",
    "from shapely import wkt, geometry\n",
    "import json\n",
    "from pprint import pprint\n",
    "from openrouteservice import client, places\n",
    "\n",
    "api_key = '5b3ce3597851110001cf62487a4f3ad33ea14791b72150c9e6446e5e'\n",
    "clnt = client.Client(key=api_key)"
   ]
  },
  {
   "cell_type": "code",
   "execution_count": 21,
   "metadata": {},
   "outputs": [],
   "source": [
    "#GPS data open and read\n",
    "a=[]\n",
    "with open('C:/Users/찬란한 돌멩이/Desktop/GPS DAT/Test DAT/GPS.txt', 'r') as f:\n",
    "    lines = f.readlines()\n",
    "#GPS to list\n",
    "\t\n",
    "    for i in lines:\n",
    "        b= i.split(sep=',')\n",
    "        b[6]=b[6].replace(\"\\n\",\"\")\n",
    "        b[6]=b[6].replace(\":\",\"\")\n",
    "        a.append(b)\n",
    "\n",
    "#Pre-processing(위도, 경도, 시간 값만 추출)\n",
    "n_a = np.array(a)\n",
    "for i in range(4):\n",
    "    n_a = np.delete(n_a,2,axis=1)\n",
    "n_a = n_a.astype(np.float64)\n",
    "GPS_info_list1 = n_a.tolist()"
   ]
  },
  {
   "cell_type": "code",
   "execution_count": 22,
   "metadata": {},
   "outputs": [],
   "source": [
    "#DTW 분석을 위한 Dummy 생성\n",
    "N = len(GPS_info_list1)//100+1\n",
    "for i in range(N):\n",
    "    if i*100+100 > len(GPS_info_list1):\n",
    "        globals()['GPS_dummy_'+str(i)] = GPS_info_list1[i*100:len(GPS_info_list1)+1]\n",
    "    else:\n",
    "        globals()['GPS_dummy_'+str(i)] = GPS_info_list1[i*100:i*100+100]\n",
    "\n",
    "\n",
    "distance_matrix_dtw=np.zeros(shape=(N,N))\n",
    "path_list=[]\n",
    "\n",
    "#DTW분석\n",
    "for i in range(len(GPS_info_list1)//100):\n",
    "    for j in range(i+1, len(GPS_info_list1)//100+1):\n",
    "        distance, path = fastdtw(globals()['GPS_dummy_'+str(i)],globals()['GPS_dummy_'+str(j)] , dist=euclidean)\n",
    "        distance_matrix_dtw[i][j] = distance\n",
    "        path_list.append(path) \n",
    "distance_matrix_dtw = distance_matrix_dtw.tolist()"
   ]
  },
  {
   "cell_type": "code",
   "execution_count": 23,
   "metadata": {},
   "outputs": [
    {
     "name": "stderr",
     "output_type": "stream",
     "text": [
      "c:\\anaconda3\\envs\\project23\\lib\\site-packages\\sklearn\\cluster\\_agglomerative.py:983: FutureWarning: Attribute `affinity` was deprecated in version 1.2 and will be removed in 1.4. Use `metric` instead\n",
      "  warnings.warn(\n"
     ]
    }
   ],
   "source": [
    "#Agglomerative clustering\n",
    "n_clusters=12\n",
    "agg = AgglomerativeClustering(n_clusters= n_clusters, affinity='precomputed',\n",
    "                              linkage='average')\n",
    "u = agg.fit_predict(distance_matrix_dtw)"
   ]
  },
  {
   "cell_type": "code",
   "execution_count": 24,
   "metadata": {},
   "outputs": [],
   "source": [
    "#loading Agglomerative Clustering result on differnt lists(클러스터 수만큼의 리스트들)\n",
    "\n",
    "a=0\n",
    "b=0\n",
    "for i in range(n_clusters):\n",
    "    globals()['Clusters_'+str(i)]=[]\n",
    "    temp=[]\n",
    "    \n",
    "    for j in u:\n",
    "        if j == a:\n",
    "            temp.append(b)\n",
    "        b+=1\n",
    "    b=0\n",
    "    globals()['Clusters_'+str(i)] = temp\n",
    "    a+=1"
   ]
  },
  {
   "cell_type": "code",
   "execution_count": 25,
   "metadata": {},
   "outputs": [],
   "source": [
    "\n",
    "#1개의 cluster를 임의 선택하여, 그 중 한개의 원소를 임의 추출한 후, 그 값을 정수로 반환.\n",
    "#반환된 정수 번째의 dummy리스트를 호출하여, Shapely polygon으로 변환\n",
    "for i in range(n_clusters):\n",
    "    globals()['path_polygon_'+str(i)]=[]\n",
    "    for j in  globals()['GPS_dummy_'+str(random.choice(globals()['Clusters_'+str(i)]))]:\n",
    "         globals()['path_polygon_'+str(i)].append(str(j[1])+\" \"+str(j[0])+\" \")\n",
    "    globals()['path_polygon_'+str(i)] = ','.join( globals()['path_polygon_'+str(i)])\n",
    "    globals()['path_polygon_'+str(i)]= 'LineString'+\" \"+\"(\"+ globals()['path_polygon_'+str(i)] +\")\"\n"
   ]
  },
  {
   "cell_type": "code",
   "execution_count": 26,
   "metadata": {},
   "outputs": [
    {
     "data": {
      "text/html": [
       "<div style=\"width:100%;\"><div style=\"position:relative;width:100%;height:0;padding-bottom:60%;\"><span style=\"color:#565656\">Make this Notebook Trusted to load map: File -> Trust Notebook</span><iframe srcdoc=\"&lt;!DOCTYPE html&gt;\n",
       "&lt;html&gt;\n",
       "&lt;head&gt;\n",
       "    \n",
       "    &lt;meta http-equiv=&quot;content-type&quot; content=&quot;text/html; charset=UTF-8&quot; /&gt;\n",
       "    \n",
       "        &lt;script&gt;\n",
       "            L_NO_TOUCH = false;\n",
       "            L_DISABLE_3D = false;\n",
       "        &lt;/script&gt;\n",
       "    \n",
       "    &lt;style&gt;html, body {width: 100%;height: 100%;margin: 0;padding: 0;}&lt;/style&gt;\n",
       "    &lt;style&gt;#map {position:absolute;top:0;bottom:0;right:0;left:0;}&lt;/style&gt;\n",
       "    &lt;script src=&quot;https://cdn.jsdelivr.net/npm/leaflet@1.9.3/dist/leaflet.js&quot;&gt;&lt;/script&gt;\n",
       "    &lt;script src=&quot;https://code.jquery.com/jquery-1.12.4.min.js&quot;&gt;&lt;/script&gt;\n",
       "    &lt;script src=&quot;https://cdn.jsdelivr.net/npm/bootstrap@5.2.2/dist/js/bootstrap.bundle.min.js&quot;&gt;&lt;/script&gt;\n",
       "    &lt;script src=&quot;https://cdnjs.cloudflare.com/ajax/libs/Leaflet.awesome-markers/2.0.2/leaflet.awesome-markers.js&quot;&gt;&lt;/script&gt;\n",
       "    &lt;link rel=&quot;stylesheet&quot; href=&quot;https://cdn.jsdelivr.net/npm/leaflet@1.9.3/dist/leaflet.css&quot;/&gt;\n",
       "    &lt;link rel=&quot;stylesheet&quot; href=&quot;https://cdn.jsdelivr.net/npm/bootstrap@5.2.2/dist/css/bootstrap.min.css&quot;/&gt;\n",
       "    &lt;link rel=&quot;stylesheet&quot; href=&quot;https://netdna.bootstrapcdn.com/bootstrap/3.0.0/css/bootstrap.min.css&quot;/&gt;\n",
       "    &lt;link rel=&quot;stylesheet&quot; href=&quot;https://cdn.jsdelivr.net/npm/@fortawesome/fontawesome-free@6.2.0/css/all.min.css&quot;/&gt;\n",
       "    &lt;link rel=&quot;stylesheet&quot; href=&quot;https://cdnjs.cloudflare.com/ajax/libs/Leaflet.awesome-markers/2.0.2/leaflet.awesome-markers.css&quot;/&gt;\n",
       "    &lt;link rel=&quot;stylesheet&quot; href=&quot;https://cdn.jsdelivr.net/gh/python-visualization/folium/folium/templates/leaflet.awesome.rotate.min.css&quot;/&gt;\n",
       "    \n",
       "            &lt;meta name=&quot;viewport&quot; content=&quot;width=device-width,\n",
       "                initial-scale=1.0, maximum-scale=1.0, user-scalable=no&quot; /&gt;\n",
       "            &lt;style&gt;\n",
       "                #map_1f17bf04814b78a5e7f56dff2a496148 {\n",
       "                    position: relative;\n",
       "                    width: 100.0%;\n",
       "                    height: 100.0%;\n",
       "                    left: 0.0%;\n",
       "                    top: 0.0%;\n",
       "                }\n",
       "                .leaflet-container { font-size: 1rem; }\n",
       "            &lt;/style&gt;\n",
       "        \n",
       "&lt;/head&gt;\n",
       "&lt;body&gt;\n",
       "    \n",
       "    \n",
       "            &lt;div class=&quot;folium-map&quot; id=&quot;map_1f17bf04814b78a5e7f56dff2a496148&quot; &gt;&lt;/div&gt;\n",
       "        \n",
       "&lt;/body&gt;\n",
       "&lt;script&gt;\n",
       "    \n",
       "    \n",
       "            var map_1f17bf04814b78a5e7f56dff2a496148 = L.map(\n",
       "                &quot;map_1f17bf04814b78a5e7f56dff2a496148&quot;,\n",
       "                {\n",
       "                    center: [39.98874475828407, 116.36077825587932],\n",
       "                    crs: L.CRS.EPSG3857,\n",
       "                    zoom: 16,\n",
       "                    zoomControl: true,\n",
       "                    preferCanvas: false,\n",
       "                }\n",
       "            );\n",
       "\n",
       "            \n",
       "\n",
       "        \n",
       "    \n",
       "            var tile_layer_4efaee84b8dd7d1c14ab9f20cfa2567f = L.tileLayer(\n",
       "                &quot;https://{s}.tile.openstreetmap.org/{z}/{x}/{y}.png&quot;,\n",
       "                {&quot;attribution&quot;: &quot;Data by \\u0026copy; \\u003ca target=\\&quot;_blank\\&quot; href=\\&quot;http://openstreetmap.org\\&quot;\\u003eOpenStreetMap\\u003c/a\\u003e, under \\u003ca target=\\&quot;_blank\\&quot; href=\\&quot;http://www.openstreetmap.org/copyright\\&quot;\\u003eODbL\\u003c/a\\u003e.&quot;, &quot;detectRetina&quot;: false, &quot;maxNativeZoom&quot;: 18, &quot;maxZoom&quot;: 18, &quot;minZoom&quot;: 0, &quot;noWrap&quot;: false, &quot;opacity&quot;: 1, &quot;subdomains&quot;: &quot;abc&quot;, &quot;tms&quot;: false}\n",
       "            ).addTo(map_1f17bf04814b78a5e7f56dff2a496148);\n",
       "        \n",
       "    \n",
       "            var polygon_f9c03a7a27a2e45bb2e1972131556ed2 = L.polygon(\n",
       "                [[39.992131, 116.35267], [39.992112, 116.352716], [39.992112, 116.352716], [39.992105, 116.352723], [39.992119, 116.35295], [39.992148, 116.353385], [39.992175, 116.353948], [39.992187, 116.354571], [39.992179, 116.355338], [39.992206, 116.356106], [39.992241, 116.356813], [39.992261, 116.357535], [39.99228, 116.35818], [39.992296, 116.358652], [39.9923, 116.358654], [39.9923, 116.358649], [39.9923, 116.358649], [39.9923, 116.358653], [39.9923, 116.358674], [39.992301, 116.358688], [39.992301, 116.358688], [39.9923, 116.35868], [39.9923, 116.358657], [39.992298, 116.358649], [39.992298, 116.358649], [39.992295, 116.358648], [39.992292, 116.358658], [39.992291, 116.358665], [39.992291, 116.358665], [39.992295, 116.358667], [39.992299, 116.358677], [39.9923, 116.358941], [39.992332, 116.359452], [39.992343, 116.360055], [39.992367, 116.360709], [39.992379, 116.36143], [39.99237, 116.362122], [39.992388, 116.362622], [39.992201, 116.362819], [39.991864, 116.362801], [39.991627, 116.362873], [39.991636, 116.36286], [39.991636, 116.36286], [39.991632, 116.362861], [39.99153, 116.362873], [39.991229, 116.36292], [39.990801, 116.362949], [39.990323, 116.362954], [39.9898, 116.362996], [39.989258, 116.363048], [39.98877, 116.363098], [39.988436, 116.363117], [39.988198, 116.363148], [39.987962, 116.363192], [39.987568, 116.363221], [39.987195, 116.363211], [39.987007, 116.363206], [39.98701, 116.363243], [39.986956, 116.363305], [39.986749, 116.363317], [39.98665, 116.363298], [39.986612, 116.363302], [39.9866, 116.363304], [39.98659, 116.363306], [39.986568, 116.363311], [39.986565, 116.363255], [39.986582, 116.363211], [39.986604, 116.363129], [39.986616, 116.363047], [39.986618, 116.362995], [39.986636, 116.362967], [39.986648, 116.362948], [39.986667, 116.362924], [39.986674, 116.362922], [39.98667, 116.362923], [39.986671, 116.362923], [39.986673, 116.362923], [39.986673, 116.362923], [39.986673, 116.362923], [39.986661, 116.362932], [39.986624, 116.362935], [39.986375, 116.362963], [39.986073, 116.362974], [39.985606, 116.362998], [39.985056, 116.363035], [39.984468, 116.36309], [39.98388, 116.363095], [39.9833, 116.363169], [39.98271, 116.363202], [39.982239, 116.363251], [39.981857, 116.363276], [39.981788, 116.363306], [39.981788, 116.363306], [39.981781, 116.363307], [39.98175, 116.363329], [39.981509, 116.363374], [39.981159, 116.363376], [39.980731, 116.36333], [39.980226, 116.363371], [39.979691, 116.3634]],\n",
       "                {&quot;bubblingMouseEvents&quot;: true, &quot;color&quot;: &quot;#00d699&quot;, &quot;dashArray&quot;: null, &quot;dashOffset&quot;: null, &quot;fill&quot;: true, &quot;fillColor&quot;: &quot;#77d699&quot;, &quot;fillOpacity&quot;: 0.2, &quot;fillRule&quot;: &quot;evenodd&quot;, &quot;lineCap&quot;: &quot;round&quot;, &quot;lineJoin&quot;: &quot;round&quot;, &quot;noClip&quot;: false, &quot;opacity&quot;: 1.0, &quot;smoothFactor&quot;: 1.0, &quot;stroke&quot;: true, &quot;weight&quot;: 3}\n",
       "            ).addTo(map_1f17bf04814b78a5e7f56dff2a496148);\n",
       "        \n",
       "&lt;/script&gt;\n",
       "&lt;/html&gt;\" style=\"position:absolute;width:100%;height:100%;left:0;top:0;border:none !important;\" allowfullscreen webkitallowfullscreen mozallowfullscreen></iframe></div></div>"
      ],
      "text/plain": [
       "<folium.folium.Map at 0x1ca77c05ee0>"
      ]
     },
     "execution_count": 26,
     "metadata": {},
     "output_type": "execute_result"
    }
   ],
   "source": [
    "#polygon을 mapping\n",
    "wkt_str = globals()['path_polygon_'+str(random.randint(0,n_clusters))]\n",
    "aoi_geom = wkt.loads(wkt_str)\n",
    "\n",
    "aoi_coords = list(aoi_geom.coords)\n",
    "aoi_coords = [(y,x) for x,y in aoi_coords] \n",
    "aoi_centroid = aoi_geom.centroid \n",
    "\n",
    "\n",
    "m = folium.Map(location=(aoi_centroid.y, aoi_centroid.x), zoom_start=16)\n",
    "folium.vector_layers.Polygon(aoi_coords,\n",
    "                                     color='#00d699',\n",
    "                                     fill_color='#77d699',\n",
    "                                    fill_opacity=0.2,\n",
    "                                     weight=3).add_to(m)\n",
    "m"
   ]
  }
 ],
 "metadata": {
  "kernelspec": {
   "display_name": "project23",
   "language": "python",
   "name": "python3"
  },
  "language_info": {
   "codemirror_mode": {
    "name": "ipython",
    "version": 3
   },
   "file_extension": ".py",
   "mimetype": "text/x-python",
   "name": "python",
   "nbconvert_exporter": "python",
   "pygments_lexer": "ipython3",
   "version": "3.9.13"
  },
  "orig_nbformat": 4,
  "vscode": {
   "interpreter": {
    "hash": "c434994447704a930c20af0cbde35542a609124f5a3ac81679fa211125b27d90"
   }
  }
 },
 "nbformat": 4,
 "nbformat_minor": 2
}
