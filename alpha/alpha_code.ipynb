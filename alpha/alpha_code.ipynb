{
 "cells": [
  {
   "cell_type": "code",
   "execution_count": 2,
   "metadata": {},
   "outputs": [],
   "source": [
    "import numpy as np\n",
    "import matplotlib.pyplot as plt\n",
    "from scipy.spatial.distance import euclidean\n",
    "from fastdtw import fastdtw\n",
    "import scipy.cluster.hierarchy as hr\n",
    "from geojson import LineString"
   ]
  },
  {
   "cell_type": "code",
   "execution_count": 3,
   "metadata": {},
   "outputs": [],
   "source": [
    "a=[]\n",
    "with open('C:/Users/찬란한 돌멩이/Desktop/GPS DAT/Test DAT/GPS.txt', 'r') as f:\n",
    "    lines = f.readlines()\n",
    "    for i in lines:\n",
    "        b= i.split(sep=',')\n",
    "        b[6]=b[6].replace(\"\\n\",\"\")\n",
    "        b[6]=b[6].replace(\":\",\"\")\n",
    "        a.append(b)\n",
    "\n",
    "#Pre-processing(위도, 경도, 시간 값만 추출)\n",
    "n_a = np.array(a)\n",
    "for i in range(4):\n",
    "    n_a = np.delete(n_a,2,axis=1)\n",
    "n_a = n_a.astype(np.float64)"
   ]
  },
  {
   "cell_type": "code",
   "execution_count": 4,
   "metadata": {},
   "outputs": [],
   "source": [
    "#Pre-processing(위도, 경도, 시간 값만 추출)\n",
    "n_a = np.array(a)\n",
    "for i in range(4):\n",
    "    n_a = np.delete(n_a,2,axis=1)\n",
    "n_a = n_a.astype(np.float64)\n",
    "GPS_info_list1 = n_a.tolist()\n"
   ]
  },
  {
   "cell_type": "code",
   "execution_count": 5,
   "metadata": {},
   "outputs": [],
   "source": [
    "#DTW 분석을 위한 Dummy 생성\n",
    "N = len(GPS_info_list1)//100+1\n",
    "for i in range(N):\n",
    "    if i*100+100 > len(GPS_info_list1):\n",
    "        globals()['GPS_dummy_'+str(i)] = GPS_info_list1[i*100:len(GPS_info_list1)+1]\n",
    "    else:\n",
    "        globals()['GPS_dummy_'+str(i)] = GPS_info_list1[i*100:i*100+100]\n",
    "\n",
    "\n",
    "distance_matrix_dtw=np.zeros(shape=(N,N))\n",
    "path_list=[]\n"
   ]
  },
  {
   "cell_type": "code",
   "execution_count": null,
   "metadata": {},
   "outputs": [],
   "source": [
    "for i in range(len(GPS_info_list1)//100):\n",
    "    for j in range(i+1, len(GPS_info_list1)//100+1):\n",
    "        distance, path = fastdtw(globals()['GPS_dummy_'+str(i)],globals()['GPS_dummy_'+str(j)] , dist=euclidean)\n",
    "        distance_matrix_dtw[i][j] = distance\n",
    "        path_list.append(path) \n",
    "#distance_matrix_dtw = distance_matrix_dtw.tolist()\n",
    "print(distance_matrix_dtw)\n"
   ]
  },
  {
   "cell_type": "code",
   "execution_count": 68,
   "metadata": {},
   "outputs": [
    {
     "name": "stdout",
     "output_type": "stream",
     "text": [
      "(57, 4)\n"
     ]
    },
    {
     "name": "stderr",
     "output_type": "stream",
     "text": [
      "C:\\Users\\찬란한 돌멩이\\AppData\\Local\\Temp\\ipykernel_15204\\404797102.py:6: UserWarning: Matplotlib is currently using module://matplotlib_inline.backend_inline, which is a non-GUI backend, so cannot show the figure.\n",
      "  fig.show()\n"
     ]
    },
    {
     "data": {
      "image/png": "[encoded data removed]",
      "text/plain": [
       "<Figure size 1000x1000 with 1 Axes>"
      ]
     },
     "metadata": {},
     "output_type": "display_data"
    }
   ],
   "source": [
    "Z = hr.linkage(distance_matrix_dtw,method='complete')\n",
    "print(Z.shape)\n",
    "\n",
    "fig = plt.figure(figsize= (10,10))\n",
    "T= hr.dendrogram(Z,color_threshold=0.4, leaf_font_size=4 )\n",
    "fig.show()"
   ]
  },
  {
   "cell_type": "code",
   "execution_count": null,
   "metadata": {},
   "outputs": [],
   "source": [
    "S=[]\n",
    "for i in GPS_dummy_37:\n",
    "    S.append(str(i[1])+\" \"+str(i[0])+\" \")\n",
    "S = ','.join(S)\n",
    "S = 'LineString'+\" \"+\"(\"+S+\")\"\n"
   ]
  },
  {
   "cell_type": "code",
   "execution_count": 11,
   "metadata": {},
   "outputs": [],
   "source": [
    "import folium\n",
    "from shapely import wkt, geometry\n",
    "import json\n",
    "from pprint import pprint\n",
    "\n",
    "from openrouteservice import client, places\n",
    "\n",
    "api_key = '5b3ce3597851110001cf62487a4f3ad33ea14791b72150c9e6446e5e'\n",
    "\n",
    "clnt = client.Client(key=api_key)"
   ]
  },
  {
   "cell_type": "code",
   "execution_count": 63,
   "metadata": {},
   "outputs": [
    {
     "data": {
      "text/html": [
       "<div style=\"width:100%;\"><div style=\"position:relative;width:100%;height:0;padding-bottom:60%;\"><span style=\"color:#565656\">Make this Notebook Trusted to load map: File -> Trust Notebook</span><iframe srcdoc=\"&lt;!DOCTYPE html&gt;\n",
       "&lt;html&gt;\n",
       "&lt;head&gt;\n",
       "    \n",
       "    &lt;meta http-equiv=&quot;content-type&quot; content=&quot;text/html; charset=UTF-8&quot; /&gt;\n",
       "    \n",
       "        &lt;script&gt;\n",
       "            L_NO_TOUCH = false;\n",
       "            L_DISABLE_3D = false;\n",
       "        &lt;/script&gt;\n",
       "    \n",
       "    &lt;style&gt;html, body {width: 100%;height: 100%;margin: 0;padding: 0;}&lt;/style&gt;\n",
       "    &lt;style&gt;#map {position:absolute;top:0;bottom:0;right:0;left:0;}&lt;/style&gt;\n",
       "    &lt;script src=&quot;https://cdn.jsdelivr.net/npm/leaflet@1.9.3/dist/leaflet.js&quot;&gt;&lt;/script&gt;\n",
       "    &lt;script src=&quot;https://code.jquery.com/jquery-1.12.4.min.js&quot;&gt;&lt;/script&gt;\n",
       "    &lt;script src=&quot;https://cdn.jsdelivr.net/npm/bootstrap@5.2.2/dist/js/bootstrap.bundle.min.js&quot;&gt;&lt;/script&gt;\n",
       "    &lt;script src=&quot;https://cdnjs.cloudflare.com/ajax/libs/Leaflet.awesome-markers/2.0.2/leaflet.awesome-markers.js&quot;&gt;&lt;/script&gt;\n",
       "    &lt;link rel=&quot;stylesheet&quot; href=&quot;https://cdn.jsdelivr.net/npm/leaflet@1.9.3/dist/leaflet.css&quot;/&gt;\n",
       "    &lt;link rel=&quot;stylesheet&quot; href=&quot;https://cdn.jsdelivr.net/npm/bootstrap@5.2.2/dist/css/bootstrap.min.css&quot;/&gt;\n",
       "    &lt;link rel=&quot;stylesheet&quot; href=&quot;https://netdna.bootstrapcdn.com/bootstrap/3.0.0/css/bootstrap.min.css&quot;/&gt;\n",
       "    &lt;link rel=&quot;stylesheet&quot; href=&quot;https://cdn.jsdelivr.net/npm/@fortawesome/fontawesome-free@6.2.0/css/all.min.css&quot;/&gt;\n",
       "    &lt;link rel=&quot;stylesheet&quot; href=&quot;https://cdnjs.cloudflare.com/ajax/libs/Leaflet.awesome-markers/2.0.2/leaflet.awesome-markers.css&quot;/&gt;\n",
       "    &lt;link rel=&quot;stylesheet&quot; href=&quot;https://cdn.jsdelivr.net/gh/python-visualization/folium/folium/templates/leaflet.awesome.rotate.min.css&quot;/&gt;\n",
       "    \n",
       "            &lt;meta name=&quot;viewport&quot; content=&quot;width=device-width,\n",
       "                initial-scale=1.0, maximum-scale=1.0, user-scalable=no&quot; /&gt;\n",
       "            &lt;style&gt;\n",
       "                #map_070c9385a9fedffe3fb6cc8e44844a36 {\n",
       "                    position: relative;\n",
       "                    width: 100.0%;\n",
       "                    height: 100.0%;\n",
       "                    left: 0.0%;\n",
       "                    top: 0.0%;\n",
       "                }\n",
       "                .leaflet-container { font-size: 1rem; }\n",
       "            &lt;/style&gt;\n",
       "        \n",
       "&lt;/head&gt;\n",
       "&lt;body&gt;\n",
       "    \n",
       "    \n",
       "            &lt;div class=&quot;folium-map&quot; id=&quot;map_070c9385a9fedffe3fb6cc8e44844a36&quot; &gt;&lt;/div&gt;\n",
       "        \n",
       "&lt;/body&gt;\n",
       "&lt;script&gt;\n",
       "    \n",
       "    \n",
       "            var map_070c9385a9fedffe3fb6cc8e44844a36 = L.map(\n",
       "                &quot;map_070c9385a9fedffe3fb6cc8e44844a36&quot;,\n",
       "                {\n",
       "                    center: [39.996190477996706, 116.30991538785523],\n",
       "                    crs: L.CRS.EPSG3857,\n",
       "                    zoom: 16,\n",
       "                    zoomControl: true,\n",
       "                    preferCanvas: false,\n",
       "                }\n",
       "            );\n",
       "\n",
       "            \n",
       "\n",
       "        \n",
       "    \n",
       "            var tile_layer_74c5225e0fb0a6e20565d41bc877150f = L.tileLayer(\n",
       "                &quot;https://{s}.tile.openstreetmap.org/{z}/{x}/{y}.png&quot;,\n",
       "                {&quot;attribution&quot;: &quot;Data by \\u0026copy; \\u003ca target=\\&quot;_blank\\&quot; href=\\&quot;http://openstreetmap.org\\&quot;\\u003eOpenStreetMap\\u003c/a\\u003e, under \\u003ca target=\\&quot;_blank\\&quot; href=\\&quot;http://www.openstreetmap.org/copyright\\&quot;\\u003eODbL\\u003c/a\\u003e.&quot;, &quot;detectRetina&quot;: false, &quot;maxNativeZoom&quot;: 18, &quot;maxZoom&quot;: 18, &quot;minZoom&quot;: 0, &quot;noWrap&quot;: false, &quot;opacity&quot;: 1, &quot;subdomains&quot;: &quot;abc&quot;, &quot;tms&quot;: false}\n",
       "            ).addTo(map_070c9385a9fedffe3fb6cc8e44844a36);\n",
       "        \n",
       "    \n",
       "            var polygon_7657f0ae8c5c4c9bcdb0eb133c51c104 = L.polygon(\n",
       "                [[39.99546, 116.31031], [39.995439, 116.310306], [39.995357, 116.310344], [39.995271, 116.31036], [39.995247, 116.310264], [39.99527, 116.310103], [39.995279, 116.309959], [39.995309, 116.309803], [39.99533, 116.309653], [39.995303, 116.309591], [39.995213, 116.309564], [39.995097, 116.309516], [39.994992, 116.309458], [39.994892, 116.309437], [39.99467, 116.310408], [39.995273, 116.310315], [39.995413, 116.310315], [39.99545, 116.310268], [39.995474, 116.310281], [39.995509, 116.310303], [39.995543, 116.310324], [39.995603, 116.310302], [39.995649, 116.310301], [39.995702, 116.310281], [39.995768, 116.310257], [39.995814, 116.31028], [39.995849, 116.310324], [39.995886, 116.310365], [39.995918, 116.310408], [39.99597, 116.310417], [39.996005, 116.310435], [39.996056, 116.310441], [39.996113, 116.310454], [39.996153, 116.310463], [39.9962, 116.310471], [39.996239, 116.310469], [39.996275, 116.310467], [39.996316, 116.310419], [39.996351, 116.310396], [39.996385, 116.310368], [39.996442, 116.310308], [39.996492, 116.310278], [39.996519, 116.310256], [39.996548, 116.31024], [39.996592, 116.310195], [39.99662, 116.310178], [39.996643, 116.310179], [39.996681, 116.310176], [39.996745, 116.310113], [39.996794, 116.310071], [39.996831, 116.310053], [39.996844, 116.310046], [39.996874, 116.310034], [39.996916, 116.310014], [39.996966, 116.309975], [39.997023, 116.309919], [39.997062, 116.309884], [39.997091, 116.309864], [39.99713, 116.309823], [39.997193, 116.309758], [39.997228, 116.309714], [39.997264, 116.309687], [39.997309, 116.309648], [39.997359, 116.309598], [39.997395, 116.309566], [39.997441, 116.309539], [39.997473, 116.30951], [39.997518, 116.309468], [39.997549, 116.309452], [39.997586, 116.309434], [39.997624, 116.309423], [39.997652, 116.309422], [39.99769, 116.309391], [39.997732, 116.309348], [39.997777, 116.30932], [39.997826, 116.309292], [39.997863, 116.309283], [39.997913, 116.30926], [39.99797, 116.309246], [39.998008, 116.309252], [39.998048, 116.309259], [39.998084, 116.309259], [39.998137, 116.309265], [39.998198, 116.30926], [39.998238, 116.309275], [39.998291, 116.309276], [39.998346, 116.309254], [39.998392, 116.309257], [39.998443, 116.309264], [39.998453, 116.309332], [39.998457, 116.30939], [39.99849, 116.309391], [39.998483, 116.309392], [39.998483, 116.309392], [39.998477, 116.309396], [39.998447, 116.30939], [39.998411, 116.309466], [39.998393, 116.30954], [39.998393, 116.309609], [39.9984, 116.309646]],\n",
       "                {&quot;bubblingMouseEvents&quot;: true, &quot;color&quot;: &quot;#00d699&quot;, &quot;dashArray&quot;: null, &quot;dashOffset&quot;: null, &quot;fill&quot;: true, &quot;fillColor&quot;: &quot;#77d699&quot;, &quot;fillOpacity&quot;: 0.2, &quot;fillRule&quot;: &quot;evenodd&quot;, &quot;lineCap&quot;: &quot;round&quot;, &quot;lineJoin&quot;: &quot;round&quot;, &quot;noClip&quot;: false, &quot;opacity&quot;: 1.0, &quot;smoothFactor&quot;: 1.0, &quot;stroke&quot;: true, &quot;weight&quot;: 3}\n",
       "            ).addTo(map_070c9385a9fedffe3fb6cc8e44844a36);\n",
       "        \n",
       "&lt;/script&gt;\n",
       "&lt;/html&gt;\" style=\"position:absolute;width:100%;height:100%;left:0;top:0;border:none !important;\" allowfullscreen webkitallowfullscreen mozallowfullscreen></iframe></div></div>"
      ],
      "text/plain": [
       "<folium.folium.Map at 0x14a38646d60>"
      ]
     },
     "execution_count": 63,
     "metadata": {},
     "output_type": "execute_result"
    }
   ],
   "source": [
    "\n",
    "\n",
    "wkt_str = S\n",
    "aoi_geom = wkt.loads(wkt_str)\n",
    "\n",
    "aoi_coords = list(aoi_geom.coords)\n",
    "aoi_coords = [(y,x) for x,y in aoi_coords] \n",
    "aoi_centroid = aoi_geom.centroid \n",
    "\n",
    "\n",
    "m = folium.Map(location=(aoi_centroid.y, aoi_centroid.x), zoom_start=16)\n",
    "folium.vector_layers.Polygon(aoi_coords,\n",
    "                                     color='#00d699',\n",
    "                                     fill_color='#77d699',\n",
    "                                    fill_opacity=0.2,\n",
    "                                     weight=3).add_to(m)\n",
    "\n",
    "m"
   ]
  },
  {
   "cell_type": "markdown",
   "metadata": {},
   "source": []
  }
 ],
 "metadata": {
  "kernelspec": {
   "display_name": "project23",
   "language": "python",
   "name": "python3"
  },
  "language_info": {
   "codemirror_mode": {
    "name": "ipython",
    "version": 3
   },
   "file_extension": ".py",
   "mimetype": "text/x-python",
   "name": "python",
   "nbconvert_exporter": "python",
   "pygments_lexer": "ipython3",
   "version": "3.9.13"
  },
  "orig_nbformat": 4,
  "vscode": {
   "interpreter": {
    "hash": "c434994447704a930c20af0cbde35542a609124f5a3ac81679fa211125b27d90"
   }
  }
 },
 "nbformat": 4,
 "nbformat_minor": 2
}
